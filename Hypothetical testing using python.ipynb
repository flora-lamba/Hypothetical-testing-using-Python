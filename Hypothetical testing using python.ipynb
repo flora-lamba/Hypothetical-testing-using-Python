{
 "cells": [
  {
   "cell_type": "code",
   "execution_count": 1,
   "id": "07d5235a",
   "metadata": {},
   "outputs": [],
   "source": [
    "import numpy as np\n",
    "import pandas as pd\n",
    "from scipy import stats\n",
    "from statsmodels.stats.weightstats import ztest\n",
    "from sklearn import datasets"
   ]
  },
  {
   "cell_type": "markdown",
   "id": "3e35aa9b",
   "metadata": {},
   "source": [
    "# t-test"
   ]
  },
  {
   "cell_type": "markdown",
   "id": "b4997fe1",
   "metadata": {},
   "source": [
    "### 1. One-Sample t-testing"
   ]
  },
  {
   "cell_type": "code",
   "execution_count": 2,
   "id": "093f010b",
   "metadata": {},
   "outputs": [],
   "source": [
    "Height_of_boys=[5.7,5.8,6.0,5.9,6.2,5.6,6.0,5.9,5.8,6.1]"
   ]
  },
  {
   "cell_type": "code",
   "execution_count": 3,
   "id": "111a3aae",
   "metadata": {},
   "outputs": [
    {
     "data": {
      "text/plain": [
       "Ttest_1sampResult(statistic=-1.7320508075688705, pvalue=0.11730680301423944)"
      ]
     },
     "execution_count": 3,
     "metadata": {},
     "output_type": "execute_result"
    }
   ],
   "source": [
    "stats.ttest_1samp(a=Height_of_boys, popmean=6.0)"
   ]
  },
  {
   "cell_type": "markdown",
   "id": "6aca6982",
   "metadata": {},
   "source": [
    "###### Since, the p-value is 0.11730680301423944 which is greater than 0.05, which implies that we don't have sufficient evidence to reject null hypothesis that suggests that the mean of the height of 10 individual boys is 6.0 "
   ]
  },
  {
   "cell_type": "markdown",
   "id": "63b58056",
   "metadata": {},
   "source": [
    "### 2. Two-Sample t-testing"
   ]
  },
  {
   "cell_type": "code",
   "execution_count": 4,
   "id": "43f1f552",
   "metadata": {},
   "outputs": [],
   "source": [
    "Height_of_boys1=[5.7,5.8,6.0,5.9,6.2,5.6,6.0,5.9,5.8,6.1]\n",
    "Height_of_boys2=[6.0,5.9,6.2,5.8,6.1,5.6,6.0,5.9,5.8,6.1]"
   ]
  },
  {
   "cell_type": "code",
   "execution_count": 5,
   "id": "a8397ebb",
   "metadata": {},
   "outputs": [
    {
     "data": {
      "text/plain": [
       "Ttest_indResult(statistic=-0.49656353316141005, pvalue=0.6255065770539847)"
      ]
     },
     "execution_count": 5,
     "metadata": {},
     "output_type": "execute_result"
    }
   ],
   "source": [
    "stats.ttest_ind(a=Height_of_boys1, b=Height_of_boys2)"
   ]
  },
  {
   "cell_type": "markdown",
   "id": "0f01edef",
   "metadata": {},
   "source": [
    "###### Since, the p-value is 0.6255065770539847 which is greater than 0.05, which implies that we don't have sufficient evidence to reject null hypothesis that suggests that the mean of the height of the boys in two different groups is same."
   ]
  },
  {
   "cell_type": "markdown",
   "id": "300dec18",
   "metadata": {},
   "source": [
    "### 3. Paired Samples t-testing"
   ]
  },
  {
   "cell_type": "code",
   "execution_count": 6,
   "id": "80db24cf",
   "metadata": {},
   "outputs": [],
   "source": [
    "Height_of_boys=[5.7,5.8,6.0,5.9,6.2,5.6,6.0,5.9,5.8,6.1]\n",
    "Height_of_girls=[5.5,5.3,5.6,5.4,5.2,5.4,5.7,5.5,5.3,5.4]"
   ]
  },
  {
   "cell_type": "code",
   "execution_count": 7,
   "id": "e8a331c7",
   "metadata": {},
   "outputs": [
    {
     "data": {
      "text/plain": [
       "Ttest_relResult(statistic=6.17732215617036, pvalue=0.00016325566893217534)"
      ]
     },
     "execution_count": 7,
     "metadata": {},
     "output_type": "execute_result"
    }
   ],
   "source": [
    "stats.ttest_rel(a=Height_of_boys, b=Height_of_girls)"
   ]
  },
  {
   "cell_type": "markdown",
   "id": "a7a25115",
   "metadata": {},
   "source": [
    "###### Since, the p-value is 0.00016325566893217564 which is less than 0.05, which implies that we've sufficient evidence to reject the null hypothesis that suggests that the mean of the height of boys is not same as that of girls."
   ]
  },
  {
   "cell_type": "markdown",
   "id": "435331e4",
   "metadata": {},
   "source": [
    "# z-test"
   ]
  },
  {
   "cell_type": "markdown",
   "id": "825dea03",
   "metadata": {},
   "source": [
    "### 1. One-Sample z-test"
   ]
  },
  {
   "cell_type": "code",
   "execution_count": 8,
   "id": "2b359b61",
   "metadata": {},
   "outputs": [],
   "source": [
    "Height_of_boys=[5.7,5.8,6.0,5.9,6.2,5.6,6.0,5.9,5.8,6.1]"
   ]
  },
  {
   "cell_type": "code",
   "execution_count": 9,
   "id": "546704a6",
   "metadata": {},
   "outputs": [
    {
     "data": {
      "text/plain": [
       "(-1.7320508075688705, 0.08326451666355161)"
      ]
     },
     "execution_count": 9,
     "metadata": {},
     "output_type": "execute_result"
    }
   ],
   "source": [
    "ztest(Height_of_boys, value=6.0)"
   ]
  },
  {
   "cell_type": "markdown",
   "id": "d15faae1",
   "metadata": {},
   "source": [
    "###### Since, the p-value is 0.08326451666355161 which is greater than 0.05, which implies that we don't have sufficient evidence to reject null hypothesis that suggests that the mean of the height of 10 individual boys is 6.0 "
   ]
  },
  {
   "cell_type": "markdown",
   "id": "d712df7a",
   "metadata": {},
   "source": [
    "### 2. Two-Sample z-test"
   ]
  },
  {
   "cell_type": "code",
   "execution_count": 10,
   "id": "45640f7f",
   "metadata": {},
   "outputs": [],
   "source": [
    "Height_of_boys1=[5.7,5.8,6.0,5.9,6.2,5.6,6.0,5.9,5.8,6.1]\n",
    "Height_of_boys2=[6.0,5.9,6.2,5.8,6.1,5.6,6.0,5.9,5.8,6.1]"
   ]
  },
  {
   "cell_type": "code",
   "execution_count": 11,
   "id": "2601c1d9",
   "metadata": {},
   "outputs": [
    {
     "data": {
      "text/plain": [
       "(-0.49656353316141005, 0.6194968743386287)"
      ]
     },
     "execution_count": 11,
     "metadata": {},
     "output_type": "execute_result"
    }
   ],
   "source": [
    "ztest(Height_of_boys1, Height_of_boys2, value=0)"
   ]
  },
  {
   "cell_type": "markdown",
   "id": "e69dbeb6",
   "metadata": {},
   "source": [
    "###### Since, the p-value is 0.6194968743386287 which is greater than 0.05, which implies that we don't have sufficient evidence to reject null hypothesis that suggests that the mean of the height of the boys in two different groups is same."
   ]
  },
  {
   "cell_type": "markdown",
   "id": "ba22c9c0",
   "metadata": {},
   "source": [
    "# IRIS Dataset"
   ]
  },
  {
   "cell_type": "code",
   "execution_count": 12,
   "id": "664e053b",
   "metadata": {},
   "outputs": [],
   "source": [
    "iris = datasets.load_iris()\n",
    "iris_df=pd.DataFrame(iris.data)"
   ]
  },
  {
   "cell_type": "code",
   "execution_count": 13,
   "id": "f750302a",
   "metadata": {
    "scrolled": true
   },
   "outputs": [
    {
     "data": {
      "text/html": [
       "<div>\n",
       "<style scoped>\n",
       "    .dataframe tbody tr th:only-of-type {\n",
       "        vertical-align: middle;\n",
       "    }\n",
       "\n",
       "    .dataframe tbody tr th {\n",
       "        vertical-align: top;\n",
       "    }\n",
       "\n",
       "    .dataframe thead th {\n",
       "        text-align: right;\n",
       "    }\n",
       "</style>\n",
       "<table border=\"1\" class=\"dataframe\">\n",
       "  <thead>\n",
       "    <tr style=\"text-align: right;\">\n",
       "      <th></th>\n",
       "      <th>0</th>\n",
       "      <th>1</th>\n",
       "      <th>2</th>\n",
       "      <th>3</th>\n",
       "    </tr>\n",
       "  </thead>\n",
       "  <tbody>\n",
       "    <tr>\n",
       "      <th>0</th>\n",
       "      <td>5.1</td>\n",
       "      <td>3.5</td>\n",
       "      <td>1.4</td>\n",
       "      <td>0.2</td>\n",
       "    </tr>\n",
       "    <tr>\n",
       "      <th>1</th>\n",
       "      <td>4.9</td>\n",
       "      <td>3.0</td>\n",
       "      <td>1.4</td>\n",
       "      <td>0.2</td>\n",
       "    </tr>\n",
       "    <tr>\n",
       "      <th>2</th>\n",
       "      <td>4.7</td>\n",
       "      <td>3.2</td>\n",
       "      <td>1.3</td>\n",
       "      <td>0.2</td>\n",
       "    </tr>\n",
       "    <tr>\n",
       "      <th>3</th>\n",
       "      <td>4.6</td>\n",
       "      <td>3.1</td>\n",
       "      <td>1.5</td>\n",
       "      <td>0.2</td>\n",
       "    </tr>\n",
       "    <tr>\n",
       "      <th>4</th>\n",
       "      <td>5.0</td>\n",
       "      <td>3.6</td>\n",
       "      <td>1.4</td>\n",
       "      <td>0.2</td>\n",
       "    </tr>\n",
       "    <tr>\n",
       "      <th>...</th>\n",
       "      <td>...</td>\n",
       "      <td>...</td>\n",
       "      <td>...</td>\n",
       "      <td>...</td>\n",
       "    </tr>\n",
       "    <tr>\n",
       "      <th>145</th>\n",
       "      <td>6.7</td>\n",
       "      <td>3.0</td>\n",
       "      <td>5.2</td>\n",
       "      <td>2.3</td>\n",
       "    </tr>\n",
       "    <tr>\n",
       "      <th>146</th>\n",
       "      <td>6.3</td>\n",
       "      <td>2.5</td>\n",
       "      <td>5.0</td>\n",
       "      <td>1.9</td>\n",
       "    </tr>\n",
       "    <tr>\n",
       "      <th>147</th>\n",
       "      <td>6.5</td>\n",
       "      <td>3.0</td>\n",
       "      <td>5.2</td>\n",
       "      <td>2.0</td>\n",
       "    </tr>\n",
       "    <tr>\n",
       "      <th>148</th>\n",
       "      <td>6.2</td>\n",
       "      <td>3.4</td>\n",
       "      <td>5.4</td>\n",
       "      <td>2.3</td>\n",
       "    </tr>\n",
       "    <tr>\n",
       "      <th>149</th>\n",
       "      <td>5.9</td>\n",
       "      <td>3.0</td>\n",
       "      <td>5.1</td>\n",
       "      <td>1.8</td>\n",
       "    </tr>\n",
       "  </tbody>\n",
       "</table>\n",
       "<p>150 rows × 4 columns</p>\n",
       "</div>"
      ],
      "text/plain": [
       "       0    1    2    3\n",
       "0    5.1  3.5  1.4  0.2\n",
       "1    4.9  3.0  1.4  0.2\n",
       "2    4.7  3.2  1.3  0.2\n",
       "3    4.6  3.1  1.5  0.2\n",
       "4    5.0  3.6  1.4  0.2\n",
       "..   ...  ...  ...  ...\n",
       "145  6.7  3.0  5.2  2.3\n",
       "146  6.3  2.5  5.0  1.9\n",
       "147  6.5  3.0  5.2  2.0\n",
       "148  6.2  3.4  5.4  2.3\n",
       "149  5.9  3.0  5.1  1.8\n",
       "\n",
       "[150 rows x 4 columns]"
      ]
     },
     "execution_count": 13,
     "metadata": {},
     "output_type": "execute_result"
    }
   ],
   "source": [
    "iris_df"
   ]
  },
  {
   "cell_type": "code",
   "execution_count": 14,
   "id": "a3413189",
   "metadata": {},
   "outputs": [],
   "source": [
    "iris_df['class']=iris.target\n",
    "\n",
    "iris_df.columns=['sepal_len', 'sepal_wid', 'petal_len', 'petal_wid', 'class']"
   ]
  },
  {
   "cell_type": "code",
   "execution_count": 15,
   "id": "a6a82765",
   "metadata": {},
   "outputs": [],
   "source": [
    "df1=iris_df.petal_wid"
   ]
  },
  {
   "cell_type": "code",
   "execution_count": 16,
   "id": "b588708f",
   "metadata": {
    "scrolled": true
   },
   "outputs": [
    {
     "data": {
      "text/plain": [
       "0      0.2\n",
       "1      0.2\n",
       "2      0.2\n",
       "3      0.2\n",
       "4      0.2\n",
       "      ... \n",
       "145    2.3\n",
       "146    1.9\n",
       "147    2.0\n",
       "148    2.3\n",
       "149    1.8\n",
       "Name: petal_wid, Length: 150, dtype: float64"
      ]
     },
     "execution_count": 16,
     "metadata": {},
     "output_type": "execute_result"
    }
   ],
   "source": [
    "df1"
   ]
  },
  {
   "attachments": {},
   "cell_type": "markdown",
   "id": "fea724cf",
   "metadata": {},
   "source": [
    "### Here, our Null hypothesis(H₀) is that the mean of petal width is 1.1, while alternative hypothesis(Hₐ) is that the mean is not equal to 1.1"
   ]
  },
  {
   "cell_type": "code",
   "execution_count": 17,
   "id": "049e5992",
   "metadata": {},
   "outputs": [
    {
     "data": {
      "text/plain": [
       "Ttest_1sampResult(statistic=1.5960637411710012, pvalue=0.11259335851740065)"
      ]
     },
     "execution_count": 17,
     "metadata": {},
     "output_type": "execute_result"
    }
   ],
   "source": [
    "stats.ttest_1samp(a=df1, popmean=1.1)"
   ]
  },
  {
   "cell_type": "markdown",
   "id": "7b1c8fe7",
   "metadata": {},
   "source": [
    "###### Since, our p-value (0.11259335851740065-t-test & 0.11047456294053219-z-test) is greater that 0.05, which implies that we don't have sufficient evidence to reject null hypothesis and the mean of petal width is 1.1 "
   ]
  },
  {
   "cell_type": "code",
   "execution_count": 18,
   "id": "534d9c03",
   "metadata": {},
   "outputs": [
    {
     "data": {
      "text/plain": [
       "(1.5960637411710012, 0.11047456294053219)"
      ]
     },
     "execution_count": 18,
     "metadata": {},
     "output_type": "execute_result"
    }
   ],
   "source": [
    "ztest(df1, value=1.1)"
   ]
  },
  {
   "cell_type": "code",
   "execution_count": 19,
   "id": "a0e57c66",
   "metadata": {},
   "outputs": [],
   "source": [
    "df1=iris_df.petal_wid\n",
    "df2=iris_df.sepal_wid"
   ]
  },
  {
   "cell_type": "code",
   "execution_count": 20,
   "id": "a901055b",
   "metadata": {},
   "outputs": [
    {
     "data": {
      "text/plain": [
       "Ttest_indResult(statistic=-25.916012615382527, pvalue=2.493672595696879e-78)"
      ]
     },
     "execution_count": 20,
     "metadata": {},
     "output_type": "execute_result"
    }
   ],
   "source": [
    "stats.ttest_ind(a=df1, b=df2)"
   ]
  },
  {
   "cell_type": "markdown",
   "id": "5274c301",
   "metadata": {},
   "source": [
    "##### Since, our p-value is less that 0.05(for both t-test & z-test), which implies that we do have sufficient evidence to reject null hypothesis and the mean of petal width and sepal widht is not identical."
   ]
  },
  {
   "cell_type": "code",
   "execution_count": 21,
   "id": "af77a47e",
   "metadata": {},
   "outputs": [
    {
     "data": {
      "text/plain": [
       "(-25.916012615382527, 4.3955956589549194e-148)"
      ]
     },
     "execution_count": 21,
     "metadata": {},
     "output_type": "execute_result"
    }
   ],
   "source": [
    "ztest(df1, df2, value=0)"
   ]
  }
 ],
 "metadata": {
  "kernelspec": {
   "display_name": "Python 3",
   "language": "python",
   "name": "python3"
  },
  "language_info": {
   "codemirror_mode": {
    "name": "ipython",
    "version": 3
   },
   "file_extension": ".py",
   "mimetype": "text/x-python",
   "name": "python",
   "nbconvert_exporter": "python",
   "pygments_lexer": "ipython3",
   "version": "3.8.8"
  }
 },
 "nbformat": 4,
 "nbformat_minor": 5
}
